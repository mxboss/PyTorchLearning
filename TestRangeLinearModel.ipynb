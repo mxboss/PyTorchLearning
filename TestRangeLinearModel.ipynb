{
 "cells": [
  {
   "cell_type": "code",
   "execution_count": 128,
   "id": "26280b3a-4db9-4735-9e36-761c8b339bdb",
   "metadata": {},
   "outputs": [],
   "source": [
    "import torch\n",
    "import torch.nn as nn\n",
    "import numpy as np \n",
    "import random\n",
    "import torch.optim as optim"
   ]
  },
  {
   "cell_type": "code",
   "execution_count": 211,
   "id": "998279c7-2043-4bd3-84b4-e9cc921922db",
   "metadata": {},
   "outputs": [
    {
     "name": "stdout",
     "output_type": "stream",
     "text": [
      "cuda\n"
     ]
    }
   ],
   "source": [
    "device = torch.device(\"cuda\" if torch.cuda.is_available() else \"cpu\")\n",
    "\n",
    "print(device)"
   ]
  },
  {
   "cell_type": "code",
   "execution_count": 90,
   "id": "5490e3d9-d701-490c-8af2-81a4eb86a4e6",
   "metadata": {},
   "outputs": [
    {
     "data": {
      "text/plain": [
       "[0, 1, 2, 3, 4, 5, 6, 7, 8, 9, 10, 11, 12, 13, 14, 15, 16, 17, 18, 19]"
      ]
     },
     "execution_count": 90,
     "metadata": {},
     "output_type": "execute_result"
    }
   ],
   "source": [
    "x_val = [i for i in range(20)]\n",
    "x_val"
   ]
  },
  {
   "cell_type": "code",
   "execution_count": 238,
   "id": "a963e86b-65e2-4228-a0dc-30dab283eba6",
   "metadata": {},
   "outputs": [
    {
     "data": {
      "text/plain": [
       "[1.6800000000000002,\n",
       " 3.48,\n",
       " 5.83,\n",
       " 7.65,\n",
       " 9.92,\n",
       " 11.64,\n",
       " 13.34,\n",
       " 15.24,\n",
       " 17.03,\n",
       " 19.92,\n",
       " 21.03,\n",
       " 23.61,\n",
       " 25.36,\n",
       " 27.65,\n",
       " 29.74,\n",
       " 31.32,\n",
       " 33.3,\n",
       " 35.57,\n",
       " 37.38,\n",
       " 39.69]"
      ]
     },
     "execution_count": 238,
     "metadata": {},
     "output_type": "execute_result"
    }
   ],
   "source": [
    "y_val = [2*i + 1 + random.randint(1,100)*0.01 for i in x_val]\n",
    "y_val"
   ]
  },
  {
   "cell_type": "code",
   "execution_count": 240,
   "id": "862d9b6d-53f3-4e5f-801b-7edb6e02c8dd",
   "metadata": {},
   "outputs": [],
   "source": [
    "x_train = np.array(x_val, dtype=np.float32) \n",
    "x_train = x_train.reshape(-1,1) \n",
    "y_train = np.array(y_val, dtype=np.float32)\n",
    "y_train = y_train.reshape(-1,1)"
   ]
  },
  {
   "cell_type": "code",
   "execution_count": 242,
   "id": "7dc40e5e-9432-4dca-840c-332ce44f8337",
   "metadata": {},
   "outputs": [],
   "source": [
    "class LinearRegModel(nn.Module):\n",
    "    def __init__(self):\n",
    "        super(LinearRegModel,self).__init__()\n",
    "        self.linear = nn.Linear(1,1)\n",
    "\n",
    "    def forward(self, x):\n",
    "        return self.linear(x)"
   ]
  },
  {
   "cell_type": "code",
   "execution_count": 244,
   "id": "71dd3385-f759-4a46-9eb8-47525c6d4709",
   "metadata": {},
   "outputs": [
    {
     "data": {
      "text/plain": [
       "LinearRegModel(\n",
       "  (linear): Linear(in_features=1, out_features=1, bias=True)\n",
       ")"
      ]
     },
     "execution_count": 244,
     "metadata": {},
     "output_type": "execute_result"
    }
   ],
   "source": [
    "model = LinearRegModel()\n",
    "model"
   ]
  },
  {
   "cell_type": "code",
   "execution_count": 246,
   "id": "33e18932-17c4-4009-a41f-8da11f0f779b",
   "metadata": {},
   "outputs": [],
   "source": [
    "loss_fc = nn.MSELoss()\n",
    "optimizer = optim.SGD(model.parameters(),lr=0.001) \n"
   ]
  },
  {
   "cell_type": "code",
   "execution_count": 248,
   "id": "5a6b7a14-f73f-40af-95f4-4438b3df6201",
   "metadata": {},
   "outputs": [
    {
     "name": "stdout",
     "output_type": "stream",
     "text": [
      "Epoch:[100/1000],loss:[1.3589826822280884]\n",
      "Epoch:[200/1000],loss:[1.2273198366165161]\n",
      "Epoch:[300/1000],loss:[1.1090272665023804]\n",
      "Epoch:[400/1000],loss:[1.0027480125427246]\n",
      "Epoch:[500/1000],loss:[0.9072619676589966]\n",
      "Epoch:[600/1000],loss:[0.8214724659919739]\n",
      "Epoch:[700/1000],loss:[0.7443949580192566]\n",
      "Epoch:[800/1000],loss:[0.6751445531845093]\n",
      "Epoch:[900/1000],loss:[0.612927258014679]\n",
      "Epoch:[1000/1000],loss:[0.5570272207260132]\n"
     ]
    }
   ],
   "source": [
    "epochs = 1000\n",
    "for epoch in range(epochs): \n",
    "    model.train() \n",
    "    in_val = torch.from_numpy(x_train) \n",
    "    labels = torch.from_numpy(y_train) \n",
    "    pre_spreed = model(in_val) \n",
    "    loss = loss_fc(pre_spreed,labels) \n",
    "    optimizer.zero_grad() \n",
    "    loss.backward()\n",
    "    optimizer.step()\n",
    "\n",
    "    if (epoch+1)%100 == 0 : \n",
    "        print(f'Epoch:[{epoch+1}/{epochs}],loss:[{loss.item()}]')\n",
    "    "
   ]
  },
  {
   "cell_type": "code",
   "execution_count": 249,
   "id": "6fb0dbd6-c5de-41d7-bf54-1c82ad14038b",
   "metadata": {},
   "outputs": [
    {
     "data": {
      "text/plain": [
       "tensor([[ 0.2504],\n",
       "        [ 2.3458],\n",
       "        [ 4.4412],\n",
       "        [ 6.5365],\n",
       "        [ 8.6319],\n",
       "        [10.7273],\n",
       "        [12.8226],\n",
       "        [14.9180],\n",
       "        [17.0134],\n",
       "        [19.1088],\n",
       "        [21.2041],\n",
       "        [23.2995],\n",
       "        [25.3949],\n",
       "        [27.4903],\n",
       "        [29.5856],\n",
       "        [31.6810],\n",
       "        [33.7764],\n",
       "        [35.8718],\n",
       "        [37.9671],\n",
       "        [40.0625]], grad_fn=<AddmmBackward0>)"
      ]
     },
     "execution_count": 249,
     "metadata": {},
     "output_type": "execute_result"
    }
   ],
   "source": [
    "model.eval()\n",
    "\n",
    "predicted = model(torch.from_numpy(x_train).requires_grad_())\n",
    "predicted"
   ]
  },
  {
   "cell_type": "code",
   "execution_count": 250,
   "id": "ef9942fa-ec7b-4587-b0da-ffd11cd94565",
   "metadata": {},
   "outputs": [],
   "source": [
    "torch.save(model.state_dict(),'model.pkl')"
   ]
  },
  {
   "cell_type": "code",
   "execution_count": 254,
   "id": "d2028e36-1645-4bd2-80ef-ef46d0dbf88e",
   "metadata": {},
   "outputs": [
    {
     "data": {
      "text/plain": [
       "<All keys matched successfully>"
      ]
     },
     "execution_count": 254,
     "metadata": {},
     "output_type": "execute_result"
    }
   ],
   "source": [
    "model.load_state_dict(torch.load('model.pkl'))"
   ]
  },
  {
   "cell_type": "code",
   "execution_count": 256,
   "id": "eb5d09dc-220d-47b8-8d4f-1797c6f2839c",
   "metadata": {},
   "outputs": [
    {
     "data": {
      "text/plain": [
       "[20,\n",
       " 21,\n",
       " 22,\n",
       " 23,\n",
       " 24,\n",
       " 25,\n",
       " 26,\n",
       " 27,\n",
       " 28,\n",
       " 29,\n",
       " 30,\n",
       " 31,\n",
       " 32,\n",
       " 33,\n",
       " 34,\n",
       " 35,\n",
       " 36,\n",
       " 37,\n",
       " 38,\n",
       " 39]"
      ]
     },
     "execution_count": 256,
     "metadata": {},
     "output_type": "execute_result"
    }
   ],
   "source": [
    "new_val = [i for i in range(20,40)]\n",
    "new_val"
   ]
  },
  {
   "cell_type": "code",
   "execution_count": 258,
   "id": "263b152d-04e8-4cd6-8129-2f92ad2f538c",
   "metadata": {},
   "outputs": [
    {
     "data": {
      "text/plain": [
       "tensor([[20.],\n",
       "        [21.],\n",
       "        [22.],\n",
       "        [23.],\n",
       "        [24.],\n",
       "        [25.],\n",
       "        [26.],\n",
       "        [27.],\n",
       "        [28.],\n",
       "        [29.],\n",
       "        [30.],\n",
       "        [31.],\n",
       "        [32.],\n",
       "        [33.],\n",
       "        [34.],\n",
       "        [35.],\n",
       "        [36.],\n",
       "        [37.],\n",
       "        [38.],\n",
       "        [39.]])"
      ]
     },
     "execution_count": 258,
     "metadata": {},
     "output_type": "execute_result"
    }
   ],
   "source": [
    "new_input = np.array(new_val,dtype=np.float32)\n",
    "new_input = new_input.reshape(-1,1)\n",
    "new_input = torch.from_numpy(new_input) \n",
    "new_input"
   ]
  },
  {
   "cell_type": "code",
   "execution_count": 260,
   "id": "5ed8f48e-743c-46b3-b363-d3f0c355f93d",
   "metadata": {},
   "outputs": [
    {
     "data": {
      "text/plain": [
       "tensor([[42.1579],\n",
       "        [44.2532],\n",
       "        [46.3486],\n",
       "        [48.4440],\n",
       "        [50.5394],\n",
       "        [52.6347],\n",
       "        [54.7301],\n",
       "        [56.8255],\n",
       "        [58.9209],\n",
       "        [61.0162],\n",
       "        [63.1116],\n",
       "        [65.2070],\n",
       "        [67.3023],\n",
       "        [69.3977],\n",
       "        [71.4931],\n",
       "        [73.5885],\n",
       "        [75.6838],\n",
       "        [77.7792],\n",
       "        [79.8746],\n",
       "        [81.9700]], grad_fn=<AddmmBackward0>)"
      ]
     },
     "execution_count": 260,
     "metadata": {},
     "output_type": "execute_result"
    }
   ],
   "source": [
    "new_predicted = model(new_input) \n",
    "new_predicted"
   ]
  },
  {
   "cell_type": "code",
   "execution_count": null,
   "id": "e3b800d7-9934-44de-a1a8-5e279672a89e",
   "metadata": {},
   "outputs": [],
   "source": []
  },
  {
   "cell_type": "code",
   "execution_count": null,
   "id": "cb5e6506-b944-4f77-b78d-0f22e397a46e",
   "metadata": {},
   "outputs": [],
   "source": []
  }
 ],
 "metadata": {
  "kernelspec": {
   "display_name": "Python 3 (ipykernel)",
   "language": "python",
   "name": "python3"
  },
  "language_info": {
   "codemirror_mode": {
    "name": "ipython",
    "version": 3
   },
   "file_extension": ".py",
   "mimetype": "text/x-python",
   "name": "python",
   "nbconvert_exporter": "python",
   "pygments_lexer": "ipython3",
   "version": "3.12.4"
  }
 },
 "nbformat": 4,
 "nbformat_minor": 5
}
