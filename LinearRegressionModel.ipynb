{
 "cells": [
  {
   "cell_type": "markdown",
   "id": "03b894ec-9f24-474a-bb95-d4bf54b8e49f",
   "metadata": {},
   "source": [
    "# 线性回归模型练习"
   ]
  },
  {
   "cell_type": "code",
   "execution_count": 56,
   "id": "a378173b-d270-4cd1-ae5d-d0ae90032b6d",
   "metadata": {},
   "outputs": [],
   "source": [
    "import torch\n",
    "import torch.nn as nn \n",
    "import torch.optim as optim\n",
    "import numpy as np "
   ]
  },
  {
   "cell_type": "code",
   "execution_count": 44,
   "id": "71b9f7ad-163c-4f73-862e-17f749f5aafb",
   "metadata": {
    "scrolled": true
   },
   "outputs": [
    {
     "data": {
      "text/plain": [
       "(torch.Size([20, 1]), torch.Size([20, 1]))"
      ]
     },
     "execution_count": 44,
     "metadata": {},
     "output_type": "execute_result"
    }
   ],
   "source": [
    "torch.manual_seed(30)\n",
    "# 输入数据\n",
    "x = torch.randn(20,1)\n",
    "# y=3*x+5+噪声\n",
    "y = 3 * x + 5 + torch.randn(20,1)*0.01\n",
    "x.shape,y.shape"
   ]
  },
  {
   "cell_type": "markdown",
   "id": "a5598d04-2d5d-415a-a0ad-7f71b121bf2f",
   "metadata": {},
   "source": [
    "### 创建模型"
   ]
  },
  {
   "cell_type": "code",
   "execution_count": 50,
   "id": "f42a642b-765f-47a1-96dc-cc76071edbcb",
   "metadata": {},
   "outputs": [],
   "source": [
    "# 定义线性回归模型\n",
    "class LinearRegressionModel(nn.Module):\n",
    "    def __init__(self):\n",
    "        super(LinearRegressionModel,self).__init__()\n",
    "        self.linear = nn.Linear(1,1) \n",
    "    def forward(self,x):\n",
    "        return self.linear(x)"
   ]
  },
  {
   "cell_type": "code",
   "execution_count": 54,
   "id": "a6c9c287-30ae-4699-af30-841e58dc2fad",
   "metadata": {},
   "outputs": [
    {
     "data": {
      "text/plain": [
       "LinearRegressionModel(\n",
       "  (linear): Linear(in_features=1, out_features=1, bias=True)\n",
       ")"
      ]
     },
     "execution_count": 54,
     "metadata": {},
     "output_type": "execute_result"
    }
   ],
   "source": [
    "model = LinearRegressionModel()\n",
    "model"
   ]
  },
  {
   "cell_type": "code",
   "execution_count": 62,
   "id": "0d19a965-f659-46bb-893d-cb31c36a4e6f",
   "metadata": {},
   "outputs": [],
   "source": [
    "# 定义损失函数\n",
    "lossFunc = nn.MSELoss() #均方误差损失\n",
    "# 定义优化器\n",
    "optimizer = optim.SGD(model.parameters(), lr=0.01) #随机梯度下降"
   ]
  },
  {
   "cell_type": "code",
   "execution_count": 66,
   "id": "d2440153-5d70-4d6c-bbdb-4ab9575f603f",
   "metadata": {},
   "outputs": [
    {
     "name": "stdout",
     "output_type": "stream",
     "text": [
      "Epoch:[99+1/1000],loss:0.4384\n",
      "Epoch:[199+1/1000],loss:0.0065\n",
      "Epoch:[299+1/1000],loss:0.0002\n",
      "Epoch:[399+1/1000],loss:0.0001\n",
      "Epoch:[499+1/1000],loss:0.0001\n",
      "Epoch:[599+1/1000],loss:0.0001\n",
      "Epoch:[699+1/1000],loss:0.0001\n",
      "Epoch:[799+1/1000],loss:0.0001\n",
      "Epoch:[899+1/1000],loss:0.0001\n",
      "Epoch:[999+1/1000],loss:0.0001\n"
     ]
    }
   ],
   "source": [
    "epochs = 1000\n",
    "for epoch in range(epochs):\n",
    "    #设置为训练模式\n",
    "    model.train()\n",
    "    #前向传播\n",
    "    y_pred = model(x)\n",
    "    #计算损失\n",
    "    loss = lossFunc(y_pred,y)\n",
    "    #反向传播\n",
    "    #清空梯度，否则会累加下去\n",
    "    optimizer.zero_grad()\n",
    "    loss.backward() #反向传播\n",
    "    optimizer.step() #更新权重\n",
    "    \n",
    "    if (epoch+1)%100 == 0 :\n",
    "        print(f'Epoch:[{epoch}+1/{epochs}],loss:{loss.item():.4f}')"
   ]
  },
  {
   "cell_type": "code",
   "execution_count": 70,
   "id": "ac69058c-11c1-4818-a7d9-f56a612d4f9d",
   "metadata": {
    "scrolled": true
   },
   "outputs": [
    {
     "data": {
      "text/plain": [
       "array([[-0.7991762 ],\n",
       "       [ 7.7210655 ],\n",
       "       [ 4.9029827 ],\n",
       "       [ 0.49683475],\n",
       "       [10.6228695 ],\n",
       "       [ 3.518446  ],\n",
       "       [ 7.4673424 ],\n",
       "       [ 5.032474  ],\n",
       "       [ 8.234328  ],\n",
       "       [ 2.372604  ],\n",
       "       [ 2.3975854 ],\n",
       "       [ 1.4718702 ],\n",
       "       [ 7.4601636 ],\n",
       "       [ 7.160247  ],\n",
       "       [ 4.4337287 ],\n",
       "       [10.248024  ],\n",
       "       [ 7.9408894 ],\n",
       "       [ 3.2716618 ],\n",
       "       [ 4.777674  ],\n",
       "       [ 3.193189  ]], dtype=float32)"
      ]
     },
     "execution_count": 70,
     "metadata": {},
     "output_type": "execute_result"
    }
   ],
   "source": [
    "#训练完成\n",
    "\n",
    "model.eval() #设置模型为评估模式\n",
    "predicted = model(x).detach().numpy()\n",
    "predicted"
   ]
  },
  {
   "cell_type": "markdown",
   "id": "451419d6-cef8-489b-aec9-eef9e365edd3",
   "metadata": {},
   "source": [
    "### 展示数据"
   ]
  },
  {
   "cell_type": "code",
   "execution_count": 76,
   "id": "ddb56aea-f9f0-4416-b8cd-6ff1058307c1",
   "metadata": {},
   "outputs": [],
   "source": [
    "import matplotlib.pyplot as plt"
   ]
  },
  {
   "cell_type": "code",
   "execution_count": 78,
   "id": "9f71be0e-9c9c-40ae-b083-d479c5689031",
   "metadata": {},
   "outputs": [
    {
     "data": {
      "image/png": "[encoded data removed]",
      "text/plain": [
       "<Figure size 640x480 with 1 Axes>"
      ]
     },
     "metadata": {},
     "output_type": "display_data"
    }
   ],
   "source": [
    "plt.scatter(x.numpy(), y.numpy(), label='Ori Data')\n",
    "plt.plot(x.numpy(), predicted, color='red', label='Fitted Line')\n",
    "plt.legend() \n",
    "plt.show()"
   ]
  },
  {
   "cell_type": "markdown",
   "id": "26f31123-2e28-437a-af4f-7c9fd65fc90d",
   "metadata": {},
   "source": [
    "### 总结回顾\n",
    "1. 准备数据\r\n",
    "2. 定义model：继承自nn.Module，准备model\r\n",
    "3. 定义优化器、损失函数\r\n",
    "4. 开始模型训练\r\n",
    "   1. 进入训练模式model.train()\r\n",
    "   2. 正向传播\r\n",
    "   3. 获得损失值loss\r\n",
    "   4. 使用优化器清空梯度（否则梯度会累加到下一轮训练中）optimizer.zero_grad()\r\n",
    "   5. 反向传播 loss.backward()\r\n",
    "   6. 更新权重 model.step()\r\n",
    "5. 评估模式model.eval()\r\n",
    "6. 可视化输出"
   ]
  },
  {
   "cell_type": "code",
   "execution_count": null,
   "id": "31b132fd-d5dc-482d-ba98-9ffed102ddc4",
   "metadata": {},
   "outputs": [],
   "source": []
  },
  {
   "cell_type": "code",
   "execution_count": null,
   "id": "992255fa-f539-4802-8db7-c0ac8f164ff8",
   "metadata": {},
   "outputs": [],
   "source": []
  },
  {
   "cell_type": "code",
   "execution_count": null,
   "id": "e6eb23ec-c07d-4a01-a741-738009754d3b",
   "metadata": {},
   "outputs": [],
   "source": []
  },
  {
   "cell_type": "code",
   "execution_count": null,
   "id": "bc585491-a66d-44ea-b8ce-d4c44c038e43",
   "metadata": {},
   "outputs": [],
   "source": []
  },
  {
   "cell_type": "code",
   "execution_count": null,
   "id": "2671b3ce-1470-4d05-a9cf-cb738ff95f4c",
   "metadata": {},
   "outputs": [],
   "source": []
  },
  {
   "cell_type": "code",
   "execution_count": null,
   "id": "7d141c69-9a8f-4dd3-a5ae-203745076099",
   "metadata": {},
   "outputs": [],
   "source": []
  },
  {
   "cell_type": "code",
   "execution_count": null,
   "id": "7ab20e2b-5067-4400-9d90-a22676d85494",
   "metadata": {},
   "outputs": [],
   "source": []
  },
  {
   "cell_type": "code",
   "execution_count": null,
   "id": "43e95aeb-5c35-4492-9d99-ebef158a6d72",
   "metadata": {},
   "outputs": [],
   "source": []
  }
 ],
 "metadata": {
  "kernelspec": {
   "display_name": "Python 3 (ipykernel)",
   "language": "python",
   "name": "python3"
  },
  "language_info": {
   "codemirror_mode": {
    "name": "ipython",
    "version": 3
   },
   "file_extension": ".py",
   "mimetype": "text/x-python",
   "name": "python",
   "nbconvert_exporter": "python",
   "pygments_lexer": "ipython3",
   "version": "3.12.4"
  }
 },
 "nbformat": 4,
 "nbformat_minor": 5
}
