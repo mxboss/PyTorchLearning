{
 "cells": [
  {
   "cell_type": "code",
   "execution_count": 128,
   "id": "26280b3a-4db9-4735-9e36-761c8b339bdb",
   "metadata": {},
   "outputs": [],
   "source": [
    "import torch\n",
    "import torch.nn as nn\n",
    "import numpy as np \n",
    "import random\n",
    "import torch.optim as optim"
   ]
  },
  {
   "cell_type": "code",
   "execution_count": 90,
   "id": "5490e3d9-d701-490c-8af2-81a4eb86a4e6",
   "metadata": {},
   "outputs": [
    {
     "data": {
      "text/plain": [
       "[0, 1, 2, 3, 4, 5, 6, 7, 8, 9, 10, 11, 12, 13, 14, 15, 16, 17, 18, 19]"
      ]
     },
     "execution_count": 90,
     "metadata": {},
     "output_type": "execute_result"
    }
   ],
   "source": [
    "x_val = [i for i in range(20)]\n",
    "x_val"
   ]
  },
  {
   "cell_type": "code",
   "execution_count": 112,
   "id": "a963e86b-65e2-4228-a0dc-30dab283eba6",
   "metadata": {},
   "outputs": [
    {
     "data": {
      "text/plain": [
       "[1.55,\n",
       " 3.06,\n",
       " 5.53,\n",
       " 7.43,\n",
       " 9.31,\n",
       " 11.91,\n",
       " 13.73,\n",
       " 15.31,\n",
       " 17.81,\n",
       " 19.35,\n",
       " 21.38,\n",
       " 23.93,\n",
       " 25.39,\n",
       " 27.46,\n",
       " 29.58,\n",
       " 31.41,\n",
       " 33.18,\n",
       " 35.01,\n",
       " 37.85,\n",
       " 39.47]"
      ]
     },
     "execution_count": 112,
     "metadata": {},
     "output_type": "execute_result"
    }
   ],
   "source": [
    "y_val = [2*i + 1 + random.randint(1,100)*0.01 for i in x_val]\n",
    "y_val"
   ]
  },
  {
   "cell_type": "code",
   "execution_count": 120,
   "id": "862d9b6d-53f3-4e5f-801b-7edb6e02c8dd",
   "metadata": {},
   "outputs": [],
   "source": [
    "x_train = np.array(x_val, dtype=np.float32) \n",
    "x_train = x_train.reshape(-1,1) \n",
    "y_train = np.array(y_val, dtype=np.float32)\n",
    "y_train = y_train.reshape(-1,1)"
   ]
  },
  {
   "cell_type": "code",
   "execution_count": 156,
   "id": "7dc40e5e-9432-4dca-840c-332ce44f8337",
   "metadata": {},
   "outputs": [],
   "source": [
    "class LinearRegModel(nn.Module):\n",
    "    def __init__(self):\n",
    "        super(LinearRegModel,self).__init__()\n",
    "        self.linear = nn.Linear(1,1)\n",
    "\n",
    "    def forward(self, x):\n",
    "        return self.linear(x)"
   ]
  },
  {
   "cell_type": "code",
   "execution_count": 158,
   "id": "71dd3385-f759-4a46-9eb8-47525c6d4709",
   "metadata": {},
   "outputs": [
    {
     "data": {
      "text/plain": [
       "LinearRegModel(\n",
       "  (linear): Linear(in_features=1, out_features=1, bias=True)\n",
       ")"
      ]
     },
     "execution_count": 158,
     "metadata": {},
     "output_type": "execute_result"
    }
   ],
   "source": [
    "model = LinearRegModel()\n",
    "model"
   ]
  },
  {
   "cell_type": "code",
   "execution_count": 160,
   "id": "33e18932-17c4-4009-a41f-8da11f0f779b",
   "metadata": {},
   "outputs": [],
   "source": [
    "loss_fc = nn.MSELoss()\n",
    "optimizer = optim.SGD(model.parameters(),lr=0.001) \n"
   ]
  },
  {
   "cell_type": "code",
   "execution_count": 172,
   "id": "5a6b7a14-f73f-40af-95f4-4438b3df6201",
   "metadata": {},
   "outputs": [
    {
     "name": "stdout",
     "output_type": "stream",
     "text": [
      "Epoch:[100/1000],loss:[0.08272147923707962]\n",
      "Epoch:[200/1000],loss:[0.08091823756694794]\n",
      "Epoch:[300/1000],loss:[0.07929839193820953]\n",
      "Epoch:[400/1000],loss:[0.07784278690814972]\n",
      "Epoch:[500/1000],loss:[0.07653500139713287]\n",
      "Epoch:[600/1000],loss:[0.07536029070615768]\n",
      "Epoch:[700/1000],loss:[0.07430446147918701]\n",
      "Epoch:[800/1000],loss:[0.07335619628429413]\n",
      "Epoch:[900/1000],loss:[0.07250382751226425]\n",
      "Epoch:[1000/1000],loss:[0.07173822820186615]\n"
     ]
    }
   ],
   "source": [
    "epochs = 1000\n",
    "for epoch in range(epochs): \n",
    "    model.train() \n",
    "    in_val = torch.from_numpy(x_train) \n",
    "    labels = torch.from_numpy(y_train) \n",
    "    pre_spreed = model(in_val) \n",
    "    loss = loss_fc(pre_spreed,labels) \n",
    "    optimizer.zero_grad() \n",
    "    loss.backward()\n",
    "    optimizer.step()\n",
    "\n",
    "    if (epoch+1)%100 == 0 : \n",
    "        print(f'Epoch:[{epoch+1}/{epochs}],loss:[{loss.item()}]')\n",
    "    "
   ]
  },
  {
   "cell_type": "code",
   "execution_count": 191,
   "id": "6fb0dbd6-c5de-41d7-bf54-1c82ad14038b",
   "metadata": {},
   "outputs": [
    {
     "data": {
      "text/plain": [
       "tensor([[ 1.3390],\n",
       "        [ 3.3497],\n",
       "        [ 5.3603],\n",
       "        [ 7.3709],\n",
       "        [ 9.3816],\n",
       "        [11.3922],\n",
       "        [13.4029],\n",
       "        [15.4135],\n",
       "        [17.4241],\n",
       "        [19.4348],\n",
       "        [21.4454],\n",
       "        [23.4560],\n",
       "        [25.4667],\n",
       "        [27.4773],\n",
       "        [29.4879],\n",
       "        [31.4986],\n",
       "        [33.5092],\n",
       "        [35.5198],\n",
       "        [37.5305],\n",
       "        [39.5411]], grad_fn=<AddmmBackward0>)"
      ]
     },
     "execution_count": 191,
     "metadata": {},
     "output_type": "execute_result"
    }
   ],
   "source": [
    "model.eval()\n",
    "\n",
    "predicted = model(torch.from_numpy(x_train).requires_grad_())\n",
    "predicted"
   ]
  },
  {
   "cell_type": "code",
   "execution_count": 193,
   "id": "ef9942fa-ec7b-4587-b0da-ffd11cd94565",
   "metadata": {},
   "outputs": [],
   "source": [
    "torch.save(model.state_dict(),'model.pkl')"
   ]
  },
  {
   "cell_type": "code",
   "execution_count": 199,
   "id": "d2028e36-1645-4bd2-80ef-ef46d0dbf88e",
   "metadata": {},
   "outputs": [
    {
     "data": {
      "text/plain": [
       "<All keys matched successfully>"
      ]
     },
     "execution_count": 199,
     "metadata": {},
     "output_type": "execute_result"
    }
   ],
   "source": [
    "model.load_state_dict(torch.load('model.pkl'))"
   ]
  },
  {
   "cell_type": "code",
   "execution_count": 203,
   "id": "eb5d09dc-220d-47b8-8d4f-1797c6f2839c",
   "metadata": {},
   "outputs": [
    {
     "data": {
      "text/plain": [
       "[20,\n",
       " 21,\n",
       " 22,\n",
       " 23,\n",
       " 24,\n",
       " 25,\n",
       " 26,\n",
       " 27,\n",
       " 28,\n",
       " 29,\n",
       " 30,\n",
       " 31,\n",
       " 32,\n",
       " 33,\n",
       " 34,\n",
       " 35,\n",
       " 36,\n",
       " 37,\n",
       " 38,\n",
       " 39]"
      ]
     },
     "execution_count": 203,
     "metadata": {},
     "output_type": "execute_result"
    }
   ],
   "source": [
    "new_val = [i for i in range(20,40)]\n",
    "new_val"
   ]
  },
  {
   "cell_type": "code",
   "execution_count": 207,
   "id": "263b152d-04e8-4cd6-8129-2f92ad2f538c",
   "metadata": {},
   "outputs": [
    {
     "data": {
      "text/plain": [
       "tensor([[20.],\n",
       "        [21.],\n",
       "        [22.],\n",
       "        [23.],\n",
       "        [24.],\n",
       "        [25.],\n",
       "        [26.],\n",
       "        [27.],\n",
       "        [28.],\n",
       "        [29.],\n",
       "        [30.],\n",
       "        [31.],\n",
       "        [32.],\n",
       "        [33.],\n",
       "        [34.],\n",
       "        [35.],\n",
       "        [36.],\n",
       "        [37.],\n",
       "        [38.],\n",
       "        [39.]])"
      ]
     },
     "execution_count": 207,
     "metadata": {},
     "output_type": "execute_result"
    }
   ],
   "source": [
    "new_input = np.array(new_val,dtype=np.float32)\n",
    "new_input = new_input.reshape(-1,1)\n",
    "new_input = torch.from_numpy(new_input) \n",
    "new_input"
   ]
  },
  {
   "cell_type": "code",
   "execution_count": 209,
   "id": "5ed8f48e-743c-46b3-b363-d3f0c355f93d",
   "metadata": {},
   "outputs": [
    {
     "data": {
      "text/plain": [
       "tensor([[41.5517],\n",
       "        [43.5624],\n",
       "        [45.5730],\n",
       "        [47.5836],\n",
       "        [49.5943],\n",
       "        [51.6049],\n",
       "        [53.6155],\n",
       "        [55.6262],\n",
       "        [57.6368],\n",
       "        [59.6474],\n",
       "        [61.6581],\n",
       "        [63.6687],\n",
       "        [65.6793],\n",
       "        [67.6900],\n",
       "        [69.7006],\n",
       "        [71.7113],\n",
       "        [73.7219],\n",
       "        [75.7325],\n",
       "        [77.7431],\n",
       "        [79.7538]], grad_fn=<AddmmBackward0>)"
      ]
     },
     "execution_count": 209,
     "metadata": {},
     "output_type": "execute_result"
    }
   ],
   "source": [
    "new_predicted = model(new_input) \n",
    "new_predicted"
   ]
  },
  {
   "cell_type": "code",
   "execution_count": null,
   "id": "e3b800d7-9934-44de-a1a8-5e279672a89e",
   "metadata": {},
   "outputs": [],
   "source": []
  }
 ],
 "metadata": {
  "kernelspec": {
   "display_name": "Python 3 (ipykernel)",
   "language": "python",
   "name": "python3"
  },
  "language_info": {
   "codemirror_mode": {
    "name": "ipython",
    "version": 3
   },
   "file_extension": ".py",
   "mimetype": "text/x-python",
   "name": "python",
   "nbconvert_exporter": "python",
   "pygments_lexer": "ipython3",
   "version": "3.12.4"
  }
 },
 "nbformat": 4,
 "nbformat_minor": 5
}
