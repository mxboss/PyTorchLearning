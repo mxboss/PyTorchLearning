{
 "cells": [
  {
   "cell_type": "code",
   "id": "initial_id",
   "metadata": {
    "collapsed": true,
    "ExecuteTime": {
     "end_time": "2024-08-26T09:42:26.711576Z",
     "start_time": "2024-08-26T09:42:26.702821Z"
    }
   },
   "source": [
    "import torch\n",
    "import torch.nn as nn\n",
    "import torch.nn.functional as F\n",
    "import torch.optim as optim\n",
    "from torch.cuda import device\n",
    "from torch.utils.data import DataLoader\n",
    "from torchvision import datasets, transforms\n",
    "import numpy as np\n",
    "import matplotlib.pyplot as plt\n",
    "import pandas as pd\n",
    "from xarray import Dataset"
   ],
   "outputs": [],
   "execution_count": 51
  },
  {
   "metadata": {
    "ExecuteTime": {
     "end_time": "2024-08-26T09:42:30.943316Z",
     "start_time": "2024-08-26T09:42:26.736898Z"
    }
   },
   "cell_type": "code",
   "source": [
    "# 读取数据 csv->ndarray->tensor\n",
    "train_df = pd.read_csv('mnist_data/mnist_train.csv')\n",
    "test_df = pd.read_csv('mnist_data/mnist_test.csv')\n",
    "x_ndarray_train = train_df.drop('label', axis=1).to_numpy()\n",
    "x_ndarray_test = test_df.drop('label', axis=1).to_numpy()\n",
    "y_ndarray_train = train_df['label'].to_numpy()\n",
    "y_ndarray_test = test_df['label'].to_numpy()\n",
    "\n",
    "x_tensor_train = torch.tensor(x_ndarray_train, dtype=torch.float)\n",
    "x_tensor_train = x_tensor_train.view(-1, 1, 28, 28)\n",
    "x_tensor_test = torch.tensor(x_ndarray_test, dtype=torch.float)\n",
    "x_tensor_test = x_tensor_test.view(-1, 1, 28, 28)\n",
    "y_tensor_train = torch.tensor(y_ndarray_train, dtype=torch.long)\n",
    "y_tensor_test = torch.tensor(y_ndarray_test, dtype=torch.long)"
   ],
   "id": "444b9e01b1c866da",
   "outputs": [],
   "execution_count": 52
  },
  {
   "metadata": {
    "ExecuteTime": {
     "end_time": "2024-08-26T09:42:31.051439Z",
     "start_time": "2024-08-26T09:42:31.042311Z"
    }
   },
   "cell_type": "code",
   "source": [
    "class CNN(nn.Module):\n",
    "    def __init__(self):\n",
    "        super(CNN, self).__init__()\n",
    "        self.conv1 = nn.Sequential(\n",
    "            #in_channels:灰度图 out_channels：输出多少特征图 kernel_size:卷积核大小 padding：填充 stride：步长\n",
    "            nn.Conv2d(in_channels=1, out_channels=16, kernel_size=3, padding=1, stride=1), #输出特征(16,28,28)\n",
    "            nn.ReLU(),\n",
    "            nn.MaxPool2d(kernel_size=2, stride=2), # 最大池化层操作，输出（16,14,14）\n",
    "        )\n",
    "        self.conv2 = nn.Sequential(\n",
    "            nn.Conv2d(in_channels=16, out_channels=32, kernel_size=3, padding=1, stride=1),  # 输出（32,14,14）\n",
    "            nn.ReLU(),\n",
    "            nn.MaxPool2d(kernel_size=2, stride=2), # 输出（32,7,7）\n",
    "        )\n",
    "        self.out = nn.Linear(32 * 7 * 7, 10) # 全连接层得到结果\n",
    "        \n",
    "    def forward(self, x):\n",
    "        x = self.conv1(x)\n",
    "        x = self.conv2(x)\n",
    "        # 卷积层后，获得32*7*7\n",
    "        x = x.view(x.size(0), -1)   # flatten操作，输出（batch_size,32*7*7)\n",
    "        output = self.out(x)\n",
    "        return output"
   ],
   "id": "c6d6a340b4707c43",
   "outputs": [],
   "execution_count": 53
  },
  {
   "metadata": {
    "ExecuteTime": {
     "end_time": "2024-08-26T09:42:31.155970Z",
     "start_time": "2024-08-26T09:42:31.149951Z"
    }
   },
   "cell_type": "code",
   "source": [
    "def accuracy(predictions, labels):\n",
    "    pred = torch.max(predictions, 1)[1]\n",
    "    # 预测正确的样本数量\n",
    "    rights = pred.eq(labels.data.view_as(pred)).sum()\n",
    "    return rights,len(labels)"
   ],
   "id": "321f3d6aaaad5af3",
   "outputs": [],
   "execution_count": 54
  },
  {
   "metadata": {
    "ExecuteTime": {
     "end_time": "2024-08-27T01:45:53.690756Z",
     "start_time": "2024-08-27T01:45:53.685781Z"
    }
   },
   "cell_type": "code",
   "source": [
    "from torch.utils.data import TensorDataset, DataLoader\n",
    "\n",
    "tensorDataset_train = TensorDataset(x_tensor_train, y_tensor_train)\n",
    "tensorDataset_test = TensorDataset(x_tensor_test, y_tensor_test)\n",
    "print(len(tensorDataset_train),len(tensorDataset_test)) \n",
    "\n",
    "batch_size = 64\n",
    "dataLoader_train = DataLoader(tensorDataset_train, batch_size=batch_size, shuffle=True)\n",
    "dataLoader_test = DataLoader(tensorDataset_test, batch_size=batch_size)\n",
    "print(len(dataLoader_train),len(dataLoader_test))\n",
    "print(len(dataLoader_train.dataset))"
   ],
   "id": "b1a580726e60a91f",
   "outputs": [
    {
     "name": "stdout",
     "output_type": "stream",
     "text": [
      "60000 10000\n",
      "938 157\n",
      "60000\n"
     ]
    }
   ],
   "execution_count": 76
  },
  {
   "metadata": {
    "ExecuteTime": {
     "end_time": "2024-08-27T01:47:55.342430Z",
     "start_time": "2024-08-27T01:47:10.062690Z"
    }
   },
   "cell_type": "code",
   "source": [
    "\n",
    "num_classes = 10\n",
    "num_epochs = 3\n",
    "\n",
    "device = torch.device('cuda' if torch.cuda.is_available() else 'cpu')\n",
    "net = CNN().to(device)\n",
    "#交叉熵损失函数\n",
    "criterion = nn.CrossEntropyLoss()\n",
    "#优化器\n",
    "optimizer = optim.Adam(net.parameters(), lr=0.001)\n",
    "\n",
    "for epoch in range(num_epochs):\n",
    "    train_rights = []\n",
    "    print(f'第{epoch+1}轮训练开始，请等待...')\n",
    "    for batch, (data, target) in enumerate(dataLoader_train):\n",
    "        data, target = data.to(device), target.to(device)\n",
    "        net.train()\n",
    "        output = net(data)\n",
    "        loss = criterion(output, target)\n",
    "        optimizer.zero_grad()\n",
    "        loss.backward()\n",
    "        optimizer.step()\n",
    "        right = accuracy(output, target)\n",
    "        right = (right[0].cpu(), right[1])\n",
    "        train_rights.append(right)\n",
    "        \n",
    "        if (batch % 100 == 0 or batch+1 == len(dataLoader_train)):\n",
    "            test_rights = []\n",
    "            with torch.no_grad():\n",
    "                net.eval()  \n",
    "                for (data,target) in dataLoader_test:\n",
    "                    data, target = data.to(device), target.to(device)\n",
    "                    output = net(data)\n",
    "                    right = accuracy(output, target)\n",
    "                    right = (right[0].cpu(), right[1])\n",
    "                    test_rights.append(right)\n",
    "                #准确率计算\n",
    "                train_rate = (sum(tup[0] for tup in train_rights), sum(tup[1] for tup in train_rights))\n",
    "                test_rate = (sum(tup[0] for tup in test_rights), sum(tup[1] for tup in test_rights))\n",
    "            \n",
    "            print('--当前epoch:{} [{}/{} ({:.0f}%)]\\t损失:{:.6f}\\t训练准确率:({:.2f})%\\t测试集正确率:{:.2f}%'.format(\n",
    "                    epoch+1, batch+1, len(dataLoader_train),\n",
    "                    100. * (batch+1) / len(dataLoader_train),\n",
    "                    loss.data,\n",
    "                    100. * train_rate[0].numpy() / train_rate[1],\n",
    "                    100. * test_rate[0].numpy() / test_rate[1]))\n",
    "\n",
    "print(\"训练完成,Done!\")\n",
    "                "
   ],
   "id": "4371042d375c2bb0",
   "outputs": [
    {
     "name": "stdout",
     "output_type": "stream",
     "text": [
      "第1轮训练开始，请等待...\n",
      "--当前epoch:1 [1/938 (0%)]\t损失:14.185368\t训练准确率:(9.38)%\t测试集正确率:11.64%\n",
      "--当前epoch:1 [101/938 (11%)]\t损失:0.394853\t训练准确率:(80.18)%\t测试集正确率:93.23%\n",
      "--当前epoch:1 [201/938 (21%)]\t损失:0.220893\t训练准确率:(87.13)%\t测试集正确率:95.32%\n",
      "--当前epoch:1 [301/938 (32%)]\t损失:0.210429\t训练准确率:(89.72)%\t测试集正确率:94.83%\n",
      "--当前epoch:1 [401/938 (43%)]\t损失:0.076358\t训练准确率:(91.21)%\t测试集正确率:96.54%\n",
      "--当前epoch:1 [501/938 (53%)]\t损失:0.234550\t训练准确率:(92.29)%\t测试集正确率:96.70%\n",
      "--当前epoch:1 [601/938 (64%)]\t损失:0.049508\t训练准确率:(92.98)%\t测试集正确率:97.49%\n",
      "--当前epoch:1 [701/938 (75%)]\t损失:0.134923\t训练准确率:(93.60)%\t测试集正确率:97.71%\n",
      "--当前epoch:1 [801/938 (85%)]\t损失:0.111227\t训练准确率:(94.08)%\t测试集正确率:97.64%\n",
      "--当前epoch:1 [901/938 (96%)]\t损失:0.157170\t训练准确率:(94.44)%\t测试集正确率:97.98%\n",
      "--当前epoch:1 [938/938 (100%)]\t损失:0.111850\t训练准确率:(94.56)%\t测试集正确率:98.06%\n",
      "第2轮训练开始，请等待...\n",
      "--当前epoch:2 [1/938 (0%)]\t损失:0.103356\t训练准确率:(95.31)%\t测试集正确率:98.04%\n",
      "--当前epoch:2 [101/938 (11%)]\t损失:0.035826\t训练准确率:(98.10)%\t测试集正确率:97.85%\n",
      "--当前epoch:2 [201/938 (21%)]\t损失:0.020871\t训练准确率:(98.16)%\t测试集正确率:97.69%\n",
      "--当前epoch:2 [301/938 (32%)]\t损失:0.045923\t训练准确率:(98.24)%\t测试集正确率:98.19%\n",
      "--当前epoch:2 [401/938 (43%)]\t损失:0.062894\t训练准确率:(98.25)%\t测试集正确率:97.95%\n",
      "--当前epoch:2 [501/938 (53%)]\t损失:0.072122\t训练准确率:(98.22)%\t测试集正确率:97.92%\n",
      "--当前epoch:2 [601/938 (64%)]\t损失:0.010552\t训练准确率:(98.17)%\t测试集正确率:98.19%\n",
      "--当前epoch:2 [701/938 (75%)]\t损失:0.032200\t训练准确率:(98.11)%\t测试集正确率:97.41%\n",
      "--当前epoch:2 [801/938 (85%)]\t损失:0.085474\t训练准确率:(98.07)%\t测试集正确率:97.84%\n",
      "--当前epoch:2 [901/938 (96%)]\t损失:0.132162\t训练准确率:(98.10)%\t测试集正确率:98.05%\n",
      "--当前epoch:2 [938/938 (100%)]\t损失:0.147940\t训练准确率:(98.09)%\t测试集正确率:97.94%\n",
      "第3轮训练开始，请等待...\n",
      "--当前epoch:3 [1/938 (0%)]\t损失:0.013635\t训练准确率:(100.00)%\t测试集正确率:97.98%\n",
      "--当前epoch:3 [101/938 (11%)]\t损失:0.051913\t训练准确率:(98.84)%\t测试集正确率:98.10%\n",
      "--当前epoch:3 [201/938 (21%)]\t损失:0.014793\t训练准确率:(98.69)%\t测试集正确率:97.78%\n",
      "--当前epoch:3 [301/938 (32%)]\t损失:0.048803\t训练准确率:(98.60)%\t测试集正确率:98.45%\n",
      "--当前epoch:3 [401/938 (43%)]\t损失:0.024790\t训练准确率:(98.55)%\t测试集正确率:97.16%\n",
      "--当前epoch:3 [501/938 (53%)]\t损失:0.182144\t训练准确率:(98.51)%\t测试集正确率:98.50%\n",
      "--当前epoch:3 [601/938 (64%)]\t损失:0.047512\t训练准确率:(98.48)%\t测试集正确率:98.37%\n",
      "--当前epoch:3 [701/938 (75%)]\t损失:0.016703\t训练准确率:(98.48)%\t测试集正确率:98.22%\n",
      "--当前epoch:3 [801/938 (85%)]\t损失:0.040647\t训练准确率:(98.49)%\t测试集正确率:98.46%\n",
      "--当前epoch:3 [901/938 (96%)]\t损失:0.063997\t训练准确率:(98.47)%\t测试集正确率:98.17%\n",
      "--当前epoch:3 [938/938 (100%)]\t损失:0.013552\t训练准确率:(98.45)%\t测试集正确率:97.55%\n",
      "训练完成,Done!\n"
     ]
    }
   ],
   "execution_count": 78
  },
  {
   "metadata": {},
   "cell_type": "code",
   "outputs": [],
   "execution_count": null,
   "source": "",
   "id": "56cc680510c2d67a"
  }
 ],
 "metadata": {
  "kernelspec": {
   "display_name": "Python 3",
   "language": "python",
   "name": "python3"
  },
  "language_info": {
   "codemirror_mode": {
    "name": "ipython",
    "version": 2
   },
   "file_extension": ".py",
   "mimetype": "text/x-python",
   "name": "python",
   "nbconvert_exporter": "python",
   "pygments_lexer": "ipython2",
   "version": "2.7.6"
  }
 },
 "nbformat": 4,
 "nbformat_minor": 5
}
